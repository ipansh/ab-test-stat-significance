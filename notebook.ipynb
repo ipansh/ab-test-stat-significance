{
 "cells": [
  {
   "cell_type": "code",
   "execution_count": 1,
   "metadata": {},
   "outputs": [],
   "source": [
    "import scipy\n",
    "from scipy import stats\n",
    "from scipy.stats import norm"
   ]
  },
  {
   "cell_type": "code",
   "execution_count": 4,
   "metadata": {},
   "outputs": [
    {
     "name": "stdout",
     "output_type": "stream",
     "text": [
      "t-statistic: 1.387\n",
      "p-value 0.182\n"
     ]
    }
   ],
   "source": [
    "mean1 = 1219\n",
    "std1 = 42\n",
    "nobs1 = 10\n",
    "\n",
    "mean2 = 1198\n",
    "std2 = 23\n",
    "nobs2 = 10\n",
    "\n",
    "print(\"t-statistic: {}\".format(round(stats.ttest_ind_from_stats(mean1, std1, nobs1, mean2, std2, nobs2, equal_var = True)[0],3)))\n",
    "print(\"p-value {}\".format(round(stats.ttest_ind_from_stats(mean1, std1, nobs1, mean2, std2, nobs2, equal_var = True)[1],3)))"
   ]
  },
  {
   "cell_type": "code",
   "execution_count": 35,
   "metadata": {},
   "outputs": [],
   "source": [
    "def get_pvalue_student(mean_control, std_control, nobs_control, mean_test, std_test, nobs_test):\n",
    "    return format(stats.ttest_ind_from_stats(mean_control, std_control, nobs_control, mean_test, std_test, nobs_test)[1],'.4f')"
   ]
  },
  {
   "cell_type": "code",
   "execution_count": 38,
   "metadata": {},
   "outputs": [
    {
     "data": {
      "text/plain": [
       "'0.3114'"
      ]
     },
     "execution_count": 38,
     "metadata": {},
     "output_type": "execute_result"
    }
   ],
   "source": [
    "get_pvalue_student(1532, 45, 10, 1550, 31, 10)"
   ]
  },
  {
   "cell_type": "code",
   "execution_count": 34,
   "metadata": {},
   "outputs": [
    {
     "data": {
      "text/plain": [
       "'0.25267964'"
      ]
     },
     "execution_count": 34,
     "metadata": {},
     "output_type": "execute_result"
    }
   ],
   "source": [
    "format(stats.ttest_ind_from_stats(1550, 36, 10, 1532, 32, 10)[1],'.8f')"
   ]
  },
  {
   "cell_type": "code",
   "execution_count": 15,
   "metadata": {},
   "outputs": [
    {
     "data": {
      "text/plain": [
       "0.982"
      ]
     },
     "execution_count": 15,
     "metadata": {},
     "output_type": "execute_result"
    }
   ],
   "source": [
    "p_value = get_pvalue_student(600, 10000, 10, 500, 10000, 10)\n",
    "p_value = float(p_value)\n",
    "p_value = round(p_value,4)\n",
    "p_value"
   ]
  },
  {
   "cell_type": "code",
   "execution_count": 6,
   "metadata": {},
   "outputs": [
    {
     "data": {
      "text/plain": [
       "Ttest_indResult(statistic=0.23340003533402714, pvalue=0.817430052805618)"
      ]
     },
     "execution_count": 6,
     "metadata": {},
     "output_type": "execute_result"
    }
   ],
   "source": [
    "stats.ttest_ind_from_stats(mean1, std1, nobs1, mean2, std2, nobs2, equal_var = True)"
   ]
  },
  {
   "cell_type": "code",
   "execution_count": 6,
   "metadata": {},
   "outputs": [],
   "source": [
    "def get_pvalue(control_size,control_conversion,experiment_size,experiment_conversion):\n",
    "\n",
    "  ### STEP1: calculate standard error for both groups\n",
    "  def standard_error(sample_size, successes):\n",
    "    p = float(successes) / sample_size\n",
    "    return ((p * (1 - p)) / sample_size) ** 0.5\n",
    "\n",
    "  ### STE2: calculate z-score\n",
    "  def zscore(size_a, successes_a, size_b, successes_b):\n",
    "    p_a = float(successes_a) / size_a\n",
    "    p_b = float(successes_b) / size_b\n",
    "    se_a = standard_error(size_a, successes_a)\n",
    "    se_b = standard_error(size_b, successes_b)\n",
    "    numerator = (p_b - p_a)\n",
    "    denominator = (se_a ** 2 + se_b ** 2) ** 0.5\n",
    "    return numerator / denominator\n",
    "\n",
    "  ### STEP3: translated z-score to p-value\n",
    "  def percentage_from_zscore(zscore):\n",
    "    return norm.sf(abs(zscore))\n",
    "    \n",
    "  exp_zscore = zscore(control_size, control_conversion, experiment_size, experiment_conversion)\n",
    "  \n",
    "  return percentage_from_zscore(exp_zscore)"
   ]
  },
  {
   "cell_type": "code",
   "execution_count": 9,
   "metadata": {},
   "outputs": [
    {
     "data": {
      "text/plain": [
       "0.1045"
      ]
     },
     "execution_count": 9,
     "metadata": {},
     "output_type": "execute_result"
    }
   ],
   "source": [
    "p_value = get_pvalue(12727, 2368, 12567, 2416)\n",
    "p_value = float(p_value)\n",
    "p_value = round(p_value,4)\n",
    "p_value"
   ]
  },
  {
   "cell_type": "code",
   "execution_count": null,
   "metadata": {},
   "outputs": [],
   "source": []
  }
 ],
 "metadata": {
  "interpreter": {
   "hash": "40d3a090f54c6569ab1632332b64b2c03c39dcf918b08424e98f38b5ae0af88f"
  },
  "kernelspec": {
   "display_name": "Python 3.7.4 64-bit ('base': conda)",
   "name": "python3"
  },
  "language_info": {
   "codemirror_mode": {
    "name": "ipython",
    "version": 3
   },
   "file_extension": ".py",
   "mimetype": "text/x-python",
   "name": "python",
   "nbconvert_exporter": "python",
   "pygments_lexer": "ipython3",
   "version": "3.7.4"
  }
 },
 "nbformat": 4,
 "nbformat_minor": 2
}
